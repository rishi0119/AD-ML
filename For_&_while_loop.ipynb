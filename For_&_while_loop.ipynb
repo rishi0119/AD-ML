{
  "nbformat": 4,
  "nbformat_minor": 0,
  "metadata": {
    "colab": {
      "provenance": [],
      "authorship_tag": "ABX9TyOVB3vsdCEjC3xCgGPahji+",
      "include_colab_link": true
    },
    "kernelspec": {
      "name": "python3",
      "display_name": "Python 3"
    },
    "language_info": {
      "name": "python"
    }
  },
  "cells": [
    {
      "cell_type": "markdown",
      "metadata": {
        "id": "view-in-github",
        "colab_type": "text"
      },
      "source": [
        "<a href=\"https://colab.research.google.com/github/rishi0119/skills-introduction-to-github/blob/main/For_%26_while_loop.ipynb\" target=\"_parent\"><img src=\"https://colab.research.google.com/assets/colab-badge.svg\" alt=\"Open In Colab\"/></a>"
      ]
    },
    {
      "cell_type": "code",
      "execution_count": null,
      "metadata": {
        "colab": {
          "base_uri": "https://localhost:8080/"
        },
        "id": "k57MafZLoC3u",
        "outputId": "95f9ea65-10be-4842-c706-dae5ce23ee09"
      },
      "outputs": [
        {
          "output_type": "stream",
          "name": "stdout",
          "text": [
            "yes 5 is less than 10\n",
            "yes 6 is less than 10\n",
            "yes 7 is less than 10\n",
            "yes 8 is less than 10\n",
            "yes 9 is less than 10\n",
            "10\n"
          ]
        }
      ],
      "source": [
        "x = 5\n",
        "while x<10 :\n",
        "  print(\"yes\",x,\"is less than 10\")\n",
        "  x=x+1\n",
        "print(x)"
      ]
    },
    {
      "cell_type": "code",
      "source": [
        "dollars = [10,20,30,40,50,60,70,80,90]\n",
        "Indian_rupees = []\n",
        "for i in dollars:\n",
        "  Indian_rupees.append(i*85.87)\n",
        "print(Indian_rupees)"
      ],
      "metadata": {
        "colab": {
          "base_uri": "https://localhost:8080/"
        },
        "id": "YCfk8cfgpbQ9",
        "outputId": "f5daf390-72ee-4c0c-9b49-9cca0d671ea7"
      },
      "execution_count": null,
      "outputs": [
        {
          "output_type": "stream",
          "name": "stdout",
          "text": [
            "[858.7, 1717.4, 2576.1000000000004, 3434.8, 4293.5, 5152.200000000001, 6010.900000000001, 6869.6, 7728.3]\n"
          ]
        }
      ]
    },
    {
      "cell_type": "code",
      "source": [
        "num = [31,45,66,33,90,78,67,87,89,93,25,59,9,81]\n",
        "U =[]\n",
        "I = []\n",
        "O = []\n",
        "for i in num:\n",
        "  if i>50 :\n",
        "    U.append(i)\n",
        "  elif i<50 :\n",
        "    I.append(i)\n",
        "  else :\n",
        "    O.append(i)\n",
        "print(U)\n",
        "print(I)\n",
        "print(O)"
      ],
      "metadata": {
        "colab": {
          "base_uri": "https://localhost:8080/"
        },
        "id": "Ze2XjMMcsaBz",
        "outputId": "c86dc143-f20c-46a8-b11c-3c3c6093c111"
      },
      "execution_count": null,
      "outputs": [
        {
          "output_type": "stream",
          "name": "stdout",
          "text": [
            "[66, 90, 78, 67, 87, 89, 93, 59, 81]\n",
            "[31, 45, 33, 25, 9]\n",
            "[]\n"
          ]
        }
      ]
    },
    {
      "cell_type": "code",
      "source": [
        "num = [31,45,66,44,90,78,67,87,99,98,25,9,8,25,84,65,62,42]\n",
        "Even =[]\n",
        "Odd = []\n",
        "for i in num:\n",
        "  if i%2==0 :\n",
        "    Even.append(i)\n",
        "  else :\n",
        "    Odd.append(i)\n",
        "print(\"Even Number : \",Even)\n",
        "print(\"Odd Number : \",Odd)"
      ],
      "metadata": {
        "colab": {
          "base_uri": "https://localhost:8080/"
        },
        "id": "KtvtRURAvnHf",
        "outputId": "d42dd1af-7370-4804-cdc5-fb317784112c"
      },
      "execution_count": null,
      "outputs": [
        {
          "output_type": "stream",
          "name": "stdout",
          "text": [
            "Even Number :  [66, 44, 90, 78, 98, 8, 84, 62, 42]\n",
            "Odd Number :  [31, 45, 67, 87, 99, 25, 9, 25, 65]\n"
          ]
        }
      ]
    },
    {
      "cell_type": "code",
      "source": [],
      "metadata": {
        "id": "iEtTqQOzv-8a"
      },
      "execution_count": null,
      "outputs": []
    }
  ]
}