{
 "cells": [
  {
   "cell_type": "code",
   "execution_count": 129,
   "id": "c91a4e45-fe62-4418-adbf-59c003d649cd",
   "metadata": {},
   "outputs": [
    {
     "data": {
      "text/plain": [
       "{'A': 1, 56: 21, 'B': 40}"
      ]
     },
     "execution_count": 129,
     "metadata": {},
     "output_type": "execute_result"
    }
   ],
   "source": [
    "a = {\n",
    "    'A':1,\n",
    "    56:21,\n",
    "    'B':40\n",
    "}\n",
    "a"
   ]
  },
  {
   "cell_type": "code",
   "execution_count": 131,
   "id": "1f2514e2-3fe6-4a8a-a583-17ad4aecdbb3",
   "metadata": {},
   "outputs": [
    {
     "data": {
      "text/plain": [
       "{'A': 1, 56: 21, 'B': 50, 'Full Name': 'Kunuguntla Rishika'}"
      ]
     },
     "execution_count": 131,
     "metadata": {},
     "output_type": "execute_result"
    }
   ],
   "source": [
    "# dictionary does not allow duplicate keys but allows duplicate values\n",
    "a.update({'B':50})\n",
    "a.update({\"Full Name\":\"Kunuguntla Rishika\"})\n",
    "a"
   ]
  },
  {
   "cell_type": "code",
   "execution_count": 133,
   "id": "9ffea28e-218f-4825-8f47-89e4278af6c4",
   "metadata": {},
   "outputs": [
    {
     "data": {
      "text/plain": [
       "dict_keys(['A', 56, 'B', 'Full Name'])"
      ]
     },
     "execution_count": 133,
     "metadata": {},
     "output_type": "execute_result"
    }
   ],
   "source": [
    "a.keys()"
   ]
  },
  {
   "cell_type": "code",
   "execution_count": 135,
   "id": "759af837-cda3-450b-b5ed-65ef8965ea74",
   "metadata": {},
   "outputs": [
    {
     "data": {
      "text/plain": [
       "dict_values([1, 21, 50, 'Kunuguntla Rishika'])"
      ]
     },
     "execution_count": 135,
     "metadata": {},
     "output_type": "execute_result"
    }
   ],
   "source": [
    "a.values()"
   ]
  },
  {
   "cell_type": "code",
   "execution_count": 137,
   "id": "b6256e96-4bd8-4a67-b04b-1ffb3572df24",
   "metadata": {},
   "outputs": [
    {
     "data": {
      "text/plain": [
       "dict_items([('A', 1), (56, 21), ('B', 50), ('Full Name', 'Kunuguntla Rishika')])"
      ]
     },
     "execution_count": 137,
     "metadata": {},
     "output_type": "execute_result"
    }
   ],
   "source": [
    "a.items()"
   ]
  },
  {
   "cell_type": "code",
   "execution_count": 139,
   "id": "255d92d6-6c18-4ab5-97a8-91d34316ddb1",
   "metadata": {},
   "outputs": [
    {
     "data": {
      "text/plain": [
       "1"
      ]
     },
     "execution_count": 139,
     "metadata": {},
     "output_type": "execute_result"
    }
   ],
   "source": [
    "# we have two ways to know the value of a key\n",
    "# where one method is get fuction\n",
    "a.get('A')"
   ]
  },
  {
   "cell_type": "code",
   "execution_count": 143,
   "id": "9ab05dff-e0ff-411d-b274-ecffc506cae8",
   "metadata": {},
   "outputs": [
    {
     "data": {
      "text/plain": [
       "21"
      ]
     },
     "execution_count": 143,
     "metadata": {},
     "output_type": "execute_result"
    }
   ],
   "source": [
    "# another method is this method\n",
    "a[56]"
   ]
  },
  {
   "cell_type": "code",
   "execution_count": 145,
   "id": "392c2634-9e4f-4777-acfe-de0bb435c01c",
   "metadata": {},
   "outputs": [],
   "source": [
    "# to delete a key value pair from dictionary we use delete function\n",
    "del a[56]"
   ]
  },
  {
   "cell_type": "code",
   "execution_count": 149,
   "id": "c439e42b-31cb-42c8-8ce0-3632b00fa9c1",
   "metadata": {},
   "outputs": [
    {
     "data": {
      "text/plain": [
       "{'A': 1, 'B': 50, 'Full Name': 'Kunuguntla Rishika'}"
      ]
     },
     "execution_count": 149,
     "metadata": {},
     "output_type": "execute_result"
    }
   ],
   "source": [
    "a"
   ]
  },
  {
   "cell_type": "code",
   "execution_count": 151,
   "id": "2379624c-1106-4e0f-bfca-b3d1b07251a0",
   "metadata": {},
   "outputs": [
    {
     "data": {
      "text/plain": [
       "int"
      ]
     },
     "execution_count": 151,
     "metadata": {},
     "output_type": "execute_result"
    }
   ],
   "source": [
    "type(a['A'])"
   ]
  },
  {
   "cell_type": "code",
   "execution_count": 153,
   "id": "2c7a11fd-7825-4e1e-8aed-eb955a4fe40e",
   "metadata": {},
   "outputs": [
    {
     "data": {
      "text/plain": [
       "{'A': 1,\n",
       " 'B': 50,\n",
       " 'Full Name': 'Kunuguntla Rishika',\n",
       " 'Hey': [100, 200, 300, 400, 500]}"
      ]
     },
     "execution_count": 153,
     "metadata": {},
     "output_type": "execute_result"
    }
   ],
   "source": [
    "a.update({\"Hey\":[100,200,300,400,500]})\n",
    "a"
   ]
  },
  {
   "cell_type": "code",
   "execution_count": 155,
   "id": "5a66f70d-b949-4952-8f16-3ab0061a2b28",
   "metadata": {},
   "outputs": [
    {
     "data": {
      "text/plain": [
       "list"
      ]
     },
     "execution_count": 155,
     "metadata": {},
     "output_type": "execute_result"
    }
   ],
   "source": [
    "type(a['Hey'])"
   ]
  },
  {
   "cell_type": "code",
   "execution_count": 157,
   "id": "63750115-623f-44ed-b7c3-226d316775fd",
   "metadata": {},
   "outputs": [
    {
     "data": {
      "text/plain": [
       "[100, 200, 300, 400, 500]"
      ]
     },
     "execution_count": 157,
     "metadata": {},
     "output_type": "execute_result"
    }
   ],
   "source": [
    "a.get(\"Hey\")"
   ]
  },
  {
   "cell_type": "code",
   "execution_count": 161,
   "id": "7040d04d-d1a1-4e67-8b08-8021d9eebc03",
   "metadata": {},
   "outputs": [
    {
     "data": {
      "text/plain": [
       "'HELLO'"
      ]
     },
     "execution_count": 161,
     "metadata": {},
     "output_type": "execute_result"
    }
   ],
   "source": [
    "b = \"Hello\"\n",
    "b.upper()"
   ]
  },
  {
   "cell_type": "code",
   "execution_count": 190,
   "id": "b942410f-6ce1-43bc-a609-fc1ceafde5ff",
   "metadata": {},
   "outputs": [
    {
     "data": {
      "text/plain": [
       "True"
      ]
     },
     "execution_count": 190,
     "metadata": {},
     "output_type": "execute_result"
    }
   ],
   "source": [
    "b= '156'\n",
    "b.isdigit()"
   ]
  },
  {
   "cell_type": "code",
   "execution_count": 194,
   "id": "613e25f6-9480-43b6-b9fb-9f0bc970cf73",
   "metadata": {},
   "outputs": [
    {
     "data": {
      "text/plain": [
       "['156']"
      ]
     },
     "execution_count": 194,
     "metadata": {},
     "output_type": "execute_result"
    }
   ],
   "source": [
    "b.split()"
   ]
  },
  {
   "cell_type": "code",
   "execution_count": 192,
   "id": "83d14bd1-cbd4-47ef-ac36-a635c01b6283",
   "metadata": {},
   "outputs": [
    {
     "data": {
      "text/plain": [
       "'156'"
      ]
     },
     "execution_count": 192,
     "metadata": {},
     "output_type": "execute_result"
    }
   ],
   "source": [
    "b"
   ]
  },
  {
   "cell_type": "code",
   "execution_count": 165,
   "id": "d08a7bad-dd38-4e35-b4fd-477c600af900",
   "metadata": {},
   "outputs": [
    {
     "data": {
      "text/plain": [
       "{'A': 1,\n",
       " 'B': 50,\n",
       " 'Full Name': 'Kunuguntla Rishika',\n",
       " 'Hey': [100, 200, 300, 400, 500]}"
      ]
     },
     "execution_count": 165,
     "metadata": {},
     "output_type": "execute_result"
    }
   ],
   "source": [
    "a"
   ]
  },
  {
   "cell_type": "code",
   "execution_count": 200,
   "id": "53ff5182-8acc-4eb7-a0b5-76c5bec859b6",
   "metadata": {},
   "outputs": [
    {
     "data": {
      "text/plain": [
       "3"
      ]
     },
     "execution_count": 200,
     "metadata": {},
     "output_type": "execute_result"
    }
   ],
   "source": [
    "a[\"Full Name\"].count('u')"
   ]
  },
  {
   "cell_type": "code",
   "execution_count": 221,
   "id": "8bcfef7a-489c-4c6b-98b8-6d8a29ca19e8",
   "metadata": {},
   "outputs": [
    {
     "data": {
      "text/plain": [
       "'kunuguntla rishika'"
      ]
     },
     "execution_count": 221,
     "metadata": {},
     "output_type": "execute_result"
    }
   ],
   "source": [
    "a[\"Full Name\"].lower() # this method is just a temporary function which will change it to lower but does not show in output"
   ]
  },
  {
   "cell_type": "code",
   "execution_count": 223,
   "id": "23c2d929-cc4a-4098-bb39-489a8ff52a82",
   "metadata": {},
   "outputs": [
    {
     "data": {
      "text/plain": [
       "'KUNUGUNTLA RISHIKA'"
      ]
     },
     "execution_count": 223,
     "metadata": {},
     "output_type": "execute_result"
    }
   ],
   "source": [
    "a.get(\"Full Name\")"
   ]
  },
  {
   "cell_type": "code",
   "execution_count": 225,
   "id": "ed304290-94b0-4e86-acbc-a4e02f23305e",
   "metadata": {},
   "outputs": [
    {
     "data": {
      "text/plain": [
       "{'A': 1,\n",
       " 'B': 50,\n",
       " 'Full Name': 'KUNUGUNTLA RISHIKA',\n",
       " 'Hey': [100, 200, 300, 400, 500]}"
      ]
     },
     "execution_count": 225,
     "metadata": {},
     "output_type": "execute_result"
    }
   ],
   "source": [
    "a[\"Full Name\"]=a[\"Full Name\"].upper() # therefore we have to assing it to a key so that it will save the value\n",
    "a"
   ]
  },
  {
   "cell_type": "code",
   "execution_count": 237,
   "id": "e2371cb9-f3b4-4215-a5d7-95132d213e3b",
   "metadata": {},
   "outputs": [
    {
     "data": {
      "text/plain": [
       "{'A': 1,\n",
       " 'B': 50,\n",
       " 'Full Name': 'KUNUGUNTLA RISHIKA',\n",
       " 'Hey': [100, 200, 300, 400, 500, 'List'],\n",
       " 'C': 56,\n",
       " 28: (15, 25, 35, 45, 55, 'Tuple', 'yes')}"
      ]
     },
     "execution_count": 237,
     "metadata": {},
     "output_type": "execute_result"
    }
   ],
   "source": [
    "a.update({'C':56,28:\"hello\"})\n",
    "a.update({28:(15,25,35,45,55,'Tuple','yes')})\n",
    "a.update({\"Hey\":[100,200,300,400,500,\"List\"]})\n",
    "a"
   ]
  },
  {
   "cell_type": "code",
   "execution_count": 259,
   "id": "afdb8ba2-396c-48e1-9205-e283f06f292a",
   "metadata": {},
   "outputs": [
    {
     "data": {
      "text/plain": [
       "'List'"
      ]
     },
     "execution_count": 259,
     "metadata": {},
     "output_type": "execute_result"
    }
   ],
   "source": [
    "a.get(\"Hey\")\n",
    "a['Hey'][5]"
   ]
  },
  {
   "cell_type": "code",
   "execution_count": 257,
   "id": "efd6c856-d0dd-4ed4-8d57-4429aab5a73d",
   "metadata": {},
   "outputs": [
    {
     "data": {
      "text/plain": [
       "'t'"
      ]
     },
     "execution_count": 257,
     "metadata": {},
     "output_type": "execute_result"
    }
   ],
   "source": [
    "a['Hey'][5][3]"
   ]
  },
  {
   "cell_type": "code",
   "execution_count": 241,
   "id": "d2432142-cc21-41c9-8585-b5ef0bf9c07c",
   "metadata": {},
   "outputs": [
    {
     "data": {
      "text/plain": [
       "{'A': 1,\n",
       " 'B': 50,\n",
       " 'Full Name': 'KUNUGUNTLA RISHIKA',\n",
       " 'Hey': [100, 200, 300, 400, 500, 'List'],\n",
       " 'C': 56,\n",
       " 28: (15, 25, 35, 45, 55, 'Tuple', 'yes')}"
      ]
     },
     "execution_count": 241,
     "metadata": {},
     "output_type": "execute_result"
    }
   ],
   "source": [
    "a"
   ]
  },
  {
   "cell_type": "code",
   "execution_count": null,
   "id": "b86a7108-9714-492e-b8d8-c2c0aed4f48b",
   "metadata": {},
   "outputs": [],
   "source": []
  }
 ],
 "metadata": {
  "kernelspec": {
   "display_name": "Python [conda env:base] *",
   "language": "python",
   "name": "conda-base-py"
  },
  "language_info": {
   "codemirror_mode": {
    "name": "ipython",
    "version": 3
   },
   "file_extension": ".py",
   "mimetype": "text/x-python",
   "name": "python",
   "nbconvert_exporter": "python",
   "pygments_lexer": "ipython3",
   "version": "3.12.7"
  }
 },
 "nbformat": 4,
 "nbformat_minor": 5
}
