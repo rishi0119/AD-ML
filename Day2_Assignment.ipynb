{
  "nbformat": 4,
  "nbformat_minor": 0,
  "metadata": {
    "colab": {
      "provenance": [],
      "authorship_tag": "ABX9TyM7oZ8z+QZMoT9O3RtWVIDQ",
      "include_colab_link": true
    },
    "kernelspec": {
      "name": "python3",
      "display_name": "Python 3"
    },
    "language_info": {
      "name": "python"
    }
  },
  "cells": [
    {
      "cell_type": "markdown",
      "metadata": {
        "id": "view-in-github",
        "colab_type": "text"
      },
      "source": [
        "<a href=\"https://colab.research.google.com/github/rishi0119/skills-introduction-to-github/blob/main/Day2_Assignment.ipynb\" target=\"_parent\"><img src=\"https://colab.research.google.com/assets/colab-badge.svg\" alt=\"Open In Colab\"/></a>"
      ]
    },
    {
      "cell_type": "code",
      "execution_count": 1,
      "metadata": {
        "id": "R2UVvGHouPC-"
      },
      "outputs": [],
      "source": [
        "A = [123,456,789,\"Hello\",\"Rishika\"]\n",
        "B = (147,258,369,\"Hey\",\"Kunuguntla\")\n",
        "c = {\"Name\" : \"Rishika\",\n",
        "    \"Greet\" : \"Hey\",\n",
        "    \"Time\" : 2,\n",
        "     \"Date\" : 19\n",
        "}"
      ]
    },
    {
      "cell_type": "code",
      "source": [
        "# Accessing elements from List\n",
        "print(A[3])\n",
        "print(A[2:])\n",
        "print(A[0:3:2])"
      ],
      "metadata": {
        "colab": {
          "base_uri": "https://localhost:8080/"
        },
        "id": "0-rVLhuh7YF5",
        "outputId": "eb8c9269-7b0e-477b-d8b7-722904c1d55e"
      },
      "execution_count": 6,
      "outputs": [
        {
          "output_type": "stream",
          "name": "stdout",
          "text": [
            "Hello\n",
            "[789, 'Hello', 'Rishika']\n",
            "[123, 789]\n"
          ]
        }
      ]
    },
    {
      "cell_type": "code",
      "source": [
        "# Accessing elemsts form Tuple\n",
        "print(B[3])\n",
        "print(B[2:])\n",
        "print(B[0:3:2])"
      ],
      "metadata": {
        "colab": {
          "base_uri": "https://localhost:8080/"
        },
        "id": "ExatWpGQ7cMD",
        "outputId": "0c9c15ba-452f-4e58-9806-e7eef7ec969c"
      },
      "execution_count": 7,
      "outputs": [
        {
          "output_type": "stream",
          "name": "stdout",
          "text": [
            "Hey\n",
            "(369, 'Hey', 'Kunuguntla')\n",
            "(147, 369)\n"
          ]
        }
      ]
    },
    {
      "cell_type": "code",
      "source": [
        "# Accessing elements from Dictionary\n",
        "print(c[\"Greet\"])\n",
        "print(c[\"Name\"])\n",
        "print(c[\"Name\"][1:])\n",
        "print(c[\"Time\"])\n",
        "print(c[\"Name\"][5])"
      ],
      "metadata": {
        "colab": {
          "base_uri": "https://localhost:8080/"
        },
        "id": "EytiGEwK8Kpd",
        "outputId": "cbc17b63-f2d8-4674-86c6-d5609eca1deb"
      },
      "execution_count": 11,
      "outputs": [
        {
          "output_type": "stream",
          "name": "stdout",
          "text": [
            "Hey\n",
            "Rishika\n",
            "ishika\n",
            "2\n",
            "k\n"
          ]
        }
      ]
    },
    {
      "cell_type": "code",
      "source": [],
      "metadata": {
        "id": "X6mH_qNo8WoD"
      },
      "execution_count": null,
      "outputs": []
    }
  ]
}