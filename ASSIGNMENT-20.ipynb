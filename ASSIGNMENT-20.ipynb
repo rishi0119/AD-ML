{
 "cells": [
  {
   "cell_type": "code",
   "execution_count": null,
   "id": "c4ad6129-9f68-4457-9a55-3820d8bb4fa6",
   "metadata": {},
   "outputs": [],
   "source": []
  }
 ],
 "metadata": {
  "kernelspec": {
   "display_name": "",
   "name": ""
  },
  "language_info": {
   "name": ""
  }
 },
 "nbformat": 4,
 "nbformat_minor": 5
}
