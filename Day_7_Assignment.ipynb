{
  "nbformat": 4,
  "nbformat_minor": 0,
  "metadata": {
    "colab": {
      "provenance": [],
      "authorship_tag": "ABX9TyNBXu45dwnJYrVKq+lj+I9K",
      "include_colab_link": true
    },
    "kernelspec": {
      "name": "python3",
      "display_name": "Python 3"
    },
    "language_info": {
      "name": "python"
    }
  },
  "cells": [
    {
      "cell_type": "markdown",
      "metadata": {
        "id": "view-in-github",
        "colab_type": "text"
      },
      "source": [
        "<a href=\"https://colab.research.google.com/github/rishi0119/skills-introduction-to-github/blob/main/Day_7_Assignment.ipynb\" target=\"_parent\"><img src=\"https://colab.research.google.com/assets/colab-badge.svg\" alt=\"Open In Colab\"/></a>"
      ]
    },
    {
      "cell_type": "code",
      "source": [
        "import pandas as pd\n",
        "\n",
        "try:\n",
        "  sales_data = pd.read_csv('/content/Day_7_sales_data.csv')\n",
        "  print(\"Data loaded successfully.\")\n",
        "except FileNotFoundError:\n",
        "  print(\"Error: sales_data.csv not found. Please upload the file.\")\n",
        "\n",
        "if 'sales_data' in locals():\n",
        "  print(\"\\nFirst 5 rows:\")\n",
        "  print(sales_data.head())\n",
        "\n",
        "  print(\"\\nDescriptive statistics:\")\n",
        "  print(sales_data.describe())"
      ],
      "metadata": {
        "id": "4dt-_tc7SC63",
        "colab": {
          "base_uri": "https://localhost:8080/"
        },
        "outputId": "aad886b1-4834-446c-fb88-9ffa9e60bc79"
      },
      "execution_count": 8,
      "outputs": [
        {
          "output_type": "stream",
          "name": "stdout",
          "text": [
            "Data loaded successfully.\n",
            "\n",
            "First 5 rows:\n",
            "         Date Product Region    Sales  Profit  Quantity\n",
            "0  2023-01-02  Tablet   East  1061.81  236.12         7\n",
            "1  2023-01-06  Laptop  North  1926.07  246.34         8\n",
            "2  2023-01-03  Tablet   East  1597.99  253.17         3\n",
            "3  2023-01-20  Tablet  North  1397.99  242.23         1\n",
            "4  2023-01-04  Laptop   West   734.03  140.36         4\n",
            "\n",
            "Descriptive statistics:\n",
            "             Sales      Profit   Quantity\n",
            "count    20.000000   20.000000  20.000000\n",
            "mean   1186.553000  211.533000   5.050000\n",
            "std     461.528444   66.916251   2.543826\n",
            "min     530.880000   82.160000   1.000000\n",
            "25%     774.517500  166.515000   2.750000\n",
            "50%    1104.865000  214.670000   5.000000\n",
            "75%    1571.080000  248.047500   7.250000\n",
            "max    1954.860000  364.970000   9.000000\n"
          ]
        }
      ]
    },
    {
      "cell_type": "code",
      "source": [
        "region_sales = sales_data.groupby('Region')['Sales'].sum()\n",
        "print(\"\\nTotal sales by region:\\n\", region_sales)\n",
        "\n",
        "most_sold_product = sales_data.groupby('Product')['Quantity'].sum().idxmax()\n",
        "print(\"\\nMost sold product:\\n\", most_sold_product)\n",
        "\n",
        "sales_data['Profit Margin'] = (sales_data['Profit'] / sales_data['Sales']) * 100\n",
        "average_profit_margin = sales_data.groupby('Product')['Profit Margin'].mean()\n",
        "print(\"\\nAverage profit margin by product:\\n\", average_profit_margin)"
      ],
      "metadata": {
        "id": "AjwOi00sTCfY",
        "colab": {
          "base_uri": "https://localhost:8080/"
        },
        "outputId": "d27867cd-893e-45a9-905d-49a4438a0ca2"
      },
      "execution_count": 9,
      "outputs": [
        {
          "output_type": "stream",
          "name": "stdout",
          "text": [
            "\n",
            "Total sales by region:\n",
            " Region\n",
            "East      5818.93\n",
            "North    10449.68\n",
            "South      936.84\n",
            "West      6525.61\n",
            "Name: Sales, dtype: float64\n",
            "\n",
            "Most sold product:\n",
            " Tablet\n",
            "\n",
            "Average profit margin by product:\n",
            " Product\n",
            "Keyboard      20.080696\n",
            "Laptop        17.112734\n",
            "Monitor       15.134989\n",
            "Smartphone    23.703647\n",
            "Tablet        19.955758\n",
            "Name: Profit Margin, dtype: float64\n"
          ]
        }
      ]
    },
    {
      "cell_type": "code",
      "source": [],
      "metadata": {
        "id": "5NPbPBn9EobD"
      },
      "execution_count": null,
      "outputs": []
    }
  ]
}