{
 "cells": [
  {
   "cell_type": "code",
   "execution_count": null,
   "id": "1795144f-6f42-43a7-a644-27ea93cb7b6c",
   "metadata": {},
   "outputs": [],
   "source": []
  }
 ],
 "metadata": {
  "kernelspec": {
   "display_name": "",
   "name": ""
  },
  "language_info": {
   "name": ""
  }
 },
 "nbformat": 4,
 "nbformat_minor": 5
}
