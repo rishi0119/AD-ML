{
 "cells": [
  {
   "cell_type": "code",
   "execution_count": 116,
   "id": "cc401066-bd26-401b-b3a3-c8ad19c6ca16",
   "metadata": {},
   "outputs": [],
   "source": [
    "# if and else \n",
    "#if condition1 :\n",
    "#    Statement\n",
    "#elif condition2 :\n",
    "#    statement\n",
    "#elif condition3 :\n",
    "#    statement\n",
    "#.\n",
    "#.\n",
    "#.\n",
    "#elif conditionn :\n",
    "#    statement\n",
    "#else :\n",
    "#    statement"
   ]
  },
  {
   "cell_type": "code",
   "execution_count": 6,
   "id": "5d9d7ecb-a9d8-4eb1-aae3-50844a8d4a27",
   "metadata": {},
   "outputs": [
    {
     "name": "stdout",
     "output_type": "stream",
     "text": [
      "5 is odd\n"
     ]
    }
   ],
   "source": [
    "Q = 5\n",
    "if Q%2==0 :\n",
    "    print(Q,\"is even\")\n",
    "else :\n",
    "    print(Q,\"is odd\")"
   ]
  },
  {
   "cell_type": "code",
   "execution_count": 10,
   "id": "a97fbeae-6a04-4c95-b54e-31b7ca6f25c1",
   "metadata": {},
   "outputs": [
    {
     "data": {
      "text/plain": [
       "True"
      ]
     },
     "execution_count": 10,
     "metadata": {},
     "output_type": "execute_result"
    }
   ],
   "source": [
    "Q = 6\n",
    "Q%2==0"
   ]
  },
  {
   "cell_type": "code",
   "execution_count": 24,
   "id": "965f6f2a-eecc-4bc9-a922-19451fc7a967",
   "metadata": {},
   "outputs": [
    {
     "name": "stdout",
     "output_type": "stream",
     "text": [
      "21.5 is positive\n"
     ]
    }
   ],
   "source": [
    "W = 21.5\n",
    "if W>0 :\n",
    "    print(W,\"is positive\")\n",
    "elif W<0 :\n",
    "    print(W,\"is negative\")\n",
    "else :\n",
    "    print(W)"
   ]
  },
  {
   "cell_type": "code",
   "execution_count": 108,
   "id": "c8d797c9-0b17-4415-a1ee-be6c1ff775ab",
   "metadata": {},
   "outputs": [
    {
     "name": "stdout",
     "output_type": "stream",
     "text": [
      "Yes\n"
     ]
    }
   ],
   "source": [
    "R = \"telangana\"\n",
    "if R[0].lower()=='t':\n",
    "    print(\"Yes\")\n",
    "else :\n",
    "    print(\"No\")"
   ]
  },
  {
   "cell_type": "code",
   "execution_count": 110,
   "id": "10611f9c-a7e4-4c1a-93a7-bdbbcb12e081",
   "metadata": {},
   "outputs": [
    {
     "name": "stdout",
     "output_type": "stream",
     "text": [
      "Yes\n"
     ]
    }
   ],
   "source": [
    "R = \"telangana\"\n",
    "if R[0]=='t' or R[0]=='T':\n",
    "    print(\"Yes\")\n",
    "else :\n",
    "    print(\"No\")"
   ]
  },
  {
   "cell_type": "code",
   "execution_count": 98,
   "id": "ed6c542c-392f-4cb3-97ce-55d64d85122e",
   "metadata": {},
   "outputs": [
    {
     "name": "stdout",
     "output_type": "stream",
     "text": [
      "No\n"
     ]
    }
   ],
   "source": [
    "T = \"Hello\"\n",
    "Y = [\"M\",\"m\",\"S\",\"s\",\"T\",\"t\"]\n",
    "if T[0] in Y:\n",
    "    print(\"Yes\")\n",
    "else :\n",
    "    print(\"No\")"
   ]
  },
  {
   "cell_type": "code",
   "execution_count": 114,
   "id": "032745a0-dee4-445c-ad2f-e1ad2b9477fc",
   "metadata": {},
   "outputs": [
    {
     "name": "stdout",
     "output_type": "stream",
     "text": [
      "Yes\n"
     ]
    }
   ],
   "source": [
    "T = \"Mumbai\"\n",
    "if T[0].lower() in [\"m\",\"s\",\"t\"]:\n",
    "    print(\"Yes\")\n",
    "else :\n",
    "    print(\"No\")"
   ]
  }
 ],
 "metadata": {
  "kernelspec": {
   "display_name": "Python [conda env:base] *",
   "language": "python",
   "name": "conda-base-py"
  },
  "language_info": {
   "codemirror_mode": {
    "name": "ipython",
    "version": 3
   },
   "file_extension": ".py",
   "mimetype": "text/x-python",
   "name": "python",
   "nbconvert_exporter": "python",
   "pygments_lexer": "ipython3",
   "version": "3.12.7"
  }
 },
 "nbformat": 4,
 "nbformat_minor": 5
}
