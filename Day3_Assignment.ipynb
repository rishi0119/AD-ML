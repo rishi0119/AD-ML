{
  "nbformat": 4,
  "nbformat_minor": 0,
  "metadata": {
    "colab": {
      "provenance": [],
      "authorship_tag": "ABX9TyNvCCXjB80GNV2ixM5anbox",
      "include_colab_link": true
    },
    "kernelspec": {
      "name": "python3",
      "display_name": "Python 3"
    },
    "language_info": {
      "name": "python"
    }
  },
  "cells": [
    {
      "cell_type": "markdown",
      "metadata": {
        "id": "view-in-github",
        "colab_type": "text"
      },
      "source": [
        "<a href=\"https://colab.research.google.com/github/rishi0119/skills-introduction-to-github/blob/main/Day3_Assignment.ipynb\" target=\"_parent\"><img src=\"https://colab.research.google.com/assets/colab-badge.svg\" alt=\"Open In Colab\"/></a>"
      ]
    },
    {
      "cell_type": "code",
      "execution_count": 7,
      "metadata": {
        "colab": {
          "base_uri": "https://localhost:8080/"
        },
        "id": "O1Ncpv1h9dJX",
        "outputId": "93a7d05c-d0f4-4c9d-f412-8a87b8890161"
      },
      "outputs": [
        {
          "output_type": "stream",
          "name": "stdout",
          "text": [
            "56.5\n",
            "85.8\n",
            "40\n",
            "60.76666666666667\n",
            "Grade:Fail\n"
          ]
        }
      ],
      "source": [
        "Maths = float(input())\n",
        "Physics = float(input())\n",
        "Chemistry = float(input())\n",
        "average = (Maths + Physics + Chemistry)/3\n",
        "print(average)\n",
        "if average >= 90:\n",
        "    print(\"Grade:A\")\n",
        "elif (average >= 80 and average <= 89):\n",
        "    print(\"Grade:B\")\n",
        "elif (average >= 70 and average <=79):\n",
        "    print(\"Grade:C\")\n",
        "else:\n",
        "    print(\"Grade:Fail\")"
      ]
    }
  ]
}