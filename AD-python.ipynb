{
 "cells": [
  {
   "cell_type": "code",
   "execution_count": 89,
   "id": "6b0ec208-7687-40fd-8b25-3e5a404da4e4",
   "metadata": {},
   "outputs": [
    {
     "name": "stdout",
     "output_type": "stream",
     "text": [
      "67\n",
      "67  is  <class 'int'>\n",
      "32.56\n",
      "32.56  is  <class 'float'>\n",
      "Rishika\n",
      "Rishika  is  <class 'str'>\n",
      "True\n",
      "True  is  <class 'bool'>\n"
     ]
    }
   ],
   "source": [
    "a=67\n",
    "print(a)\n",
    "print(a,\" is \",type(a))\n",
    "\n",
    "b=32.56\n",
    "print(b)\n",
    "print(b,\" is \",type(b))\n",
    "\n",
    "c=\"Rishika\"\n",
    "print(c)\n",
    "print(c,\" is \",type(c))\n",
    "\n",
    "d=True\n",
    "print(d)\n",
    "print(d,\" is \",type(d))"
   ]
  },
  {
   "cell_type": "code",
   "execution_count": 91,
   "id": "cd723b43-fba1-477f-969f-4330f4c78e22",
   "metadata": {},
   "outputs": [
    {
     "name": "stdout",
     "output_type": "stream",
     "text": [
      "112 <class 'int'>\n",
      "106 <class 'int'>\n",
      "327 <class 'int'>\n",
      "36.333333333333336 <class 'float'>\n",
      "1 <class 'int'>\n",
      "1295029 <class 'int'>\n",
      "36 <class 'int'>\n"
     ]
    }
   ],
   "source": [
    "### addition +\n",
    "### subtraction -\n",
    "### multiplication *\n",
    "### division /\n",
    "### reminder %\n",
    "### power **\n",
    "### // floor division\n",
    "\n",
    "a=109\n",
    "b=3\n",
    "print(a+b,type(a+b))\n",
    "print(a-b,type(a-b))\n",
    "print(a*b,type(a*b))\n",
    "print(a/b,type(a/b))\n",
    "print(a%b,type(a%b))\n",
    "print(a**b,type(a**b))\n",
    "print(a//b,type(a//b))"
   ]
  },
  {
   "cell_type": "code",
   "execution_count": 81,
   "id": "cbe07a8e-3ecc-4be9-ac0b-a819c9dd6bb2",
   "metadata": {},
   "outputs": [
    {
     "name": "stdout",
     "output_type": "stream",
     "text": [
      "False\n",
      "True\n",
      "False\n",
      "True\n",
      "True\n",
      "False\n"
     ]
    }
   ],
   "source": [
    "# comparision operators < > <= >= != ==\n",
    "a=45\n",
    "b=32\n",
    "\n",
    "print(a<b)\n",
    "print(a>b)\n",
    "print(a<=b)\n",
    "print(a>=b)\n",
    "print(a!=b)\n",
    "print(a==b)"
   ]
  },
  {
   "cell_type": "code",
   "execution_count": 113,
   "id": "7c43bcef-d620-4481-ac23-82c249d80782",
   "metadata": {},
   "outputs": [
    {
     "name": "stdout",
     "output_type": "stream",
     "text": [
      "True\n",
      "True\n",
      "True\n",
      "True\n",
      "False\n"
     ]
    }
   ],
   "source": [
    "# logical operators - 'AND' 'OR' 'NOT'\n",
    "a = 15\n",
    "print(a<30)\n",
    "print(a>10) \n",
    "print(a<30 and a>10)\n",
    "print(a>=10 or a>=20)\n",
    "print(not a<30)"
   ]
  },
  {
   "cell_type": "code",
   "execution_count": 13,
   "id": "d968c089-8354-418c-b489-6090d97f904d",
   "metadata": {},
   "outputs": [
    {
     "data": {
      "text/plain": [
       "tuple"
      ]
     },
     "execution_count": 13,
     "metadata": {},
     "output_type": "execute_result"
    }
   ],
   "source": [
    "a = (2,3,4,5)\n",
    "type(a)"
   ]
  },
  {
   "cell_type": "code",
   "execution_count": 47,
   "id": "67a80d92-5267-4df6-a209-36bedb87b394",
   "metadata": {},
   "outputs": [
    {
     "name": "stdout",
     "output_type": "stream",
     "text": [
      "[56, 'rishika', True, 48.32, 78, 'hyderabad', False, 85.25] is of <class 'list'>\n"
     ]
    }
   ],
   "source": [
    "c = [56,'rishika',True,48.32,78,'hyderabad',False,85.25]\n",
    "print(c,'is of',type(c))"
   ]
  },
  {
   "cell_type": "code",
   "execution_count": 49,
   "id": "da5076d9-6ffc-4469-8199-5bb4d6e867d0",
   "metadata": {},
   "outputs": [
    {
     "name": "stdout",
     "output_type": "stream",
     "text": [
      "True is of <class 'bool'>\n"
     ]
    }
   ],
   "source": [
    "print(c[2],'is of',type(c[2]))"
   ]
  },
  {
   "cell_type": "code",
   "execution_count": 89,
   "id": "7ecb0867-a958-477b-82ee-8164e451665d",
   "metadata": {},
   "outputs": [
    {
     "name": "stdout",
     "output_type": "stream",
     "text": [
      "['rishika', True]\n",
      "['rishika', 48.32, 'hyderabad', 85.25]\n",
      "[48.32, 'hyderabad', 85.25]\n"
     ]
    }
   ],
   "source": [
    "#indexing\n",
    "print(c[1:3])\n",
    "print(c[1:8:2])\n",
    "print(c[-5::2])"
   ]
  },
  {
   "cell_type": "code",
   "execution_count": 8,
   "id": "b23e7fde-d6bf-4b4b-937d-d0ad3932f730",
   "metadata": {},
   "outputs": [
    {
     "data": {
      "text/plain": [
       "[85, 56, 'hello', 25.3, True, False, 41, 'hi', 50]"
      ]
     },
     "execution_count": 8,
     "metadata": {},
     "output_type": "execute_result"
    }
   ],
   "source": [
    "# LIST METHODS - append, insert, extend, remove, pop, clear, delete, count\n",
    "d = [85,56,\"hello\",25.3,True,False,41,\"hi\"]\n",
    "d.append(50)\n",
    "d"
   ]
  },
  {
   "cell_type": "code",
   "execution_count": 12,
   "id": "10fb1e4e-8d79-4188-b0a1-2d72f37eb210",
   "metadata": {},
   "outputs": [
    {
     "data": {
      "text/plain": [
       "[85, 56, 'hello', 25.3, 67.5, 67.5, True, False, 41, 'hi', 50]"
      ]
     },
     "execution_count": 12,
     "metadata": {},
     "output_type": "execute_result"
    }
   ],
   "source": [
    "d.insert(4,67.5)\n",
    "d"
   ]
  },
  {
   "cell_type": "code",
   "execution_count": 14,
   "id": "e85ec629-ffb0-4d57-94e7-f36b5fbbfe8a",
   "metadata": {},
   "outputs": [
    {
     "data": {
      "text/plain": [
       "[85, 56, 'hello', 25.3, 67.5, True, False, 41, 'hi', 50]"
      ]
     },
     "execution_count": 14,
     "metadata": {},
     "output_type": "execute_result"
    }
   ],
   "source": [
    "d.remove(67.5)\n",
    "d"
   ]
  },
  {
   "cell_type": "code",
   "execution_count": 20,
   "id": "44bcff65-6236-439d-b905-d2613f85011f",
   "metadata": {},
   "outputs": [
    {
     "data": {
      "text/plain": [
       "[56, 'hello', 25.3, 67.5, True, False, 41, 'hi', 50]"
      ]
     },
     "execution_count": 20,
     "metadata": {},
     "output_type": "execute_result"
    }
   ],
   "source": [
    "d.pop(0)\n",
    "d"
   ]
  },
  {
   "cell_type": "code",
   "execution_count": 22,
   "id": "607ebe65-5f75-43d4-9587-c14eb5b5b521",
   "metadata": {},
   "outputs": [
    {
     "data": {
      "text/plain": [
       "1"
      ]
     },
     "execution_count": 22,
     "metadata": {},
     "output_type": "execute_result"
    }
   ],
   "source": [
    "d.count(56)"
   ]
  },
  {
   "cell_type": "code",
   "execution_count": null,
   "id": "2a8d7e07-2c4d-4517-93d9-1f2d088e2aae",
   "metadata": {},
   "outputs": [],
   "source": []
  }
 ],
 "metadata": {
  "kernelspec": {
   "display_name": "Python [conda env:base] *",
   "language": "python",
   "name": "conda-base-py"
  },
  "language_info": {
   "codemirror_mode": {
    "name": "ipython",
    "version": 3
   },
   "file_extension": ".py",
   "mimetype": "text/x-python",
   "name": "python",
   "nbconvert_exporter": "python",
   "pygments_lexer": "ipython3",
   "version": "3.12.7"
  }
 },
 "nbformat": 4,
 "nbformat_minor": 5
}
