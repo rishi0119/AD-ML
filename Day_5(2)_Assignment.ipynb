{
  "nbformat": 4,
  "nbformat_minor": 0,
  "metadata": {
    "colab": {
      "provenance": [],
      "authorship_tag": "ABX9TyNUiIMDbZL11EH0qDhTl0Zb",
      "include_colab_link": true
    },
    "kernelspec": {
      "name": "python3",
      "display_name": "Python 3"
    },
    "language_info": {
      "name": "python"
    }
  },
  "cells": [
    {
      "cell_type": "markdown",
      "metadata": {
        "id": "view-in-github",
        "colab_type": "text"
      },
      "source": [
        "<a href=\"https://colab.research.google.com/github/rishi0119/skills-introduction-to-github/blob/main/Day_5(2)_Assignment.ipynb\" target=\"_parent\"><img src=\"https://colab.research.google.com/assets/colab-badge.svg\" alt=\"Open In Colab\"/></a>"
      ]
    },
    {
      "cell_type": "code",
      "source": [
        "n = int(input(\"Enter a positive integer: \"))\n",
        "\n",
        "print(\"Numbers from 1 to\", n, \":\")\n",
        "for i in range(1, n + 1):\n",
        "    print(i)\n",
        "\n",
        "sum = 0\n",
        "i = 1\n",
        "while i <= n:\n",
        "    sum += i\n",
        "    i += 1\n",
        "\n",
        "print(\"Sum of numbers from 1 to\", n, \":\", sum)"
      ],
      "metadata": {
        "id": "4dt-_tc7SC63",
        "colab": {
          "base_uri": "https://localhost:8080/"
        },
        "outputId": "dbab9db1-a6d5-4775-8fb0-74b97b94fbd0"
      },
      "execution_count": 3,
      "outputs": [
        {
          "output_type": "stream",
          "name": "stdout",
          "text": [
            "Enter a positive integer: 8\n",
            "Numbers from 1 to 8 :\n",
            "1\n",
            "2\n",
            "3\n",
            "4\n",
            "5\n",
            "6\n",
            "7\n",
            "8\n",
            "Sum of numbers from 1 to 8 : 36\n"
          ]
        }
      ]
    },
    {
      "cell_type": "code",
      "source": [
        "def calculate_square(n):\n",
        "  return n * n\n",
        "\n",
        "# Get user input\n",
        "try:\n",
        "  n = int(input(\"Enter a positive integer: \"))\n",
        "  if n <= 0:\n",
        "    print(\"Please enter a positive integer.\")\n",
        "  else:\n",
        "    # Call the function and display the result\n",
        "    square = calculate_square(n)\n",
        "    print(\"The square of\", n, \"is\", square)\n",
        "except ValueError:\n",
        "  print(\"Invalid input. Please enter a valid integer.\")\n"
      ],
      "metadata": {
        "id": "AjwOi00sTCfY",
        "colab": {
          "base_uri": "https://localhost:8080/"
        },
        "outputId": "4c0b42be-e007-4a77-eea2-7651970571e5"
      },
      "execution_count": 4,
      "outputs": [
        {
          "output_type": "stream",
          "name": "stdout",
          "text": [
            "Enter a positive integer: 5\n",
            "The square of 5 is 25\n"
          ]
        }
      ]
    },
    {
      "cell_type": "code",
      "source": [],
      "metadata": {
        "id": "5NPbPBn9EobD"
      },
      "execution_count": null,
      "outputs": []
    }
  ]
}